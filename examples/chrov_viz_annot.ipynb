{
 "cells": [
  {
   "cell_type": "markdown",
   "id": "c65b049b-2df9-4f84-abe4-2936eca9ae6d",
   "metadata": {},
   "source": [
    "---\n",
    "# 🏷️Annotations on chromosomes"
   ]
  },
  {
   "cell_type": "code",
   "execution_count": 1,
   "id": "4a735619-912a-4c34-9e67-b95a4ff27bbe",
   "metadata": {},
   "outputs": [],
   "source": [
    "## requirements\n",
    "import numpy as np\n",
    "import pandas as pd\n",
    "import matplotlib.pyplot as plt"
   ]
  },
  {
   "cell_type": "code",
   "execution_count": 2,
   "id": "fc2f5a4e-8b6c-4176-8c33-3e46df9ae937",
   "metadata": {
    "tags": [
     "parameters"
    ]
   },
   "outputs": [],
   "source": [
    "## input parameters\n",
    "chromosome='1'\n",
    "arm='p'\n",
    "test=False\n",
    "# test=True\n",
    "input_dir_path='inputs'\n",
    "output_dir_path='outputs'"
   ]
  },
  {
   "cell_type": "code",
   "execution_count": null,
   "id": "d9391050-e675-451b-8fbd-bcd392fd0b80",
   "metadata": {},
   "outputs": [],
   "source": [
    "## set the current directory to 'examples'\n",
    "import os\n",
    "if len(set(['chrov','examples','tests']) - set(os.listdir('.')))==0:\n",
    "    ## change the current directory from 'chrov' to 'examples'\n",
    "    os.chdir('./examples')"
   ]
  },
  {
   "cell_type": "code",
   "execution_count": 4,
   "id": "f77f401e-14c9-413e-a462-3022edbb3ede",
   "metadata": {},
   "outputs": [],
   "source": [
    "if test:\n",
    "    import logging\n",
    "    logging.basicConfig(level=logging.INFO)"
   ]
  },
  {
   "cell_type": "markdown",
   "id": "112e508e-0f15-4840-be85-dcdb2023154c",
   "metadata": {},
   "source": [
    "**Demo data**"
   ]
  },
  {
   "cell_type": "code",
   "execution_count": 5,
   "id": "3727676f-9b1a-4697-90a5-5e9732c93e06",
   "metadata": {},
   "outputs": [
    {
     "data": {
      "text/html": [
       "<div>\n",
       "<style scoped>\n",
       "    .dataframe tbody tr th:only-of-type {\n",
       "        vertical-align: middle;\n",
       "    }\n",
       "\n",
       "    .dataframe tbody tr th {\n",
       "        vertical-align: top;\n",
       "    }\n",
       "\n",
       "    .dataframe thead th {\n",
       "        text-align: right;\n",
       "    }\n",
       "</style>\n",
       "<table border=\"1\" class=\"dataframe\">\n",
       "  <thead>\n",
       "    <tr style=\"text-align: right;\">\n",
       "      <th></th>\n",
       "      <th>chromosome</th>\n",
       "      <th>p start</th>\n",
       "      <th>q end</th>\n",
       "      <th>start</th>\n",
       "      <th>end</th>\n",
       "      <th>cytoband</th>\n",
       "      <th>cytoband type</th>\n",
       "      <th>arm</th>\n",
       "      <th>chromosome arm</th>\n",
       "    </tr>\n",
       "  </thead>\n",
       "  <tbody>\n",
       "    <tr>\n",
       "      <th>0</th>\n",
       "      <td>1</td>\n",
       "      <td>121700001</td>\n",
       "      <td>125100000</td>\n",
       "      <td>1</td>\n",
       "      <td>2300000</td>\n",
       "      <td>p36.33</td>\n",
       "      <td>gneg</td>\n",
       "      <td>p</td>\n",
       "      <td>chr1p</td>\n",
       "    </tr>\n",
       "  </tbody>\n",
       "</table>\n",
       "</div>"
      ],
      "text/plain": [
       "  chromosome    p start      q end  start      end cytoband cytoband type arm  \\\n",
       "0          1  121700001  125100000      1  2300000   p36.33          gneg   p   \n",
       "\n",
       "  chromosome arm  \n",
       "0          chr1p  "
      ]
     },
     "execution_count": 5,
     "metadata": {},
     "output_type": "execute_result"
    }
   ],
   "source": [
    "# cytobands to plot the chromosome\n",
    "cytobands=pd.read_table(f'{input_dir_path}/cytobands.tsv',index_col=[0])\n",
    "cytobands.head(1)"
   ]
  },
  {
   "cell_type": "markdown",
   "id": "b8353832-4447-4f35-bcec-b52a2a7a6555",
   "metadata": {},
   "source": [
    "## Segments/windows"
   ]
  },
  {
   "cell_type": "markdown",
   "id": "72e4fbc7-1a45-4dba-913e-f3ee59a34f44",
   "metadata": {},
   "source": [
    "### `arrows`"
   ]
  },
  {
   "cell_type": "code",
   "execution_count": 6,
   "id": "c91c82f6-a8f6-4a25-a209-a478be0bc4c6",
   "metadata": {},
   "outputs": [
    {
     "data": {
      "text/plain": [
       "[(-0.5, 2.0)]"
      ]
     },
     "execution_count": 6,
     "metadata": {},
     "output_type": "execute_result"
    },
    {
     "data": {
      "image/png": "[encoded data removed]",
      "text/plain": [
       "<Figure size 800x100 with 1 Axes>"
      ]
     },
     "metadata": {},
     "output_type": "display_data"
    }
   ],
   "source": [
    "from chrov.viz.chrom import plot_arm\n",
    "from chrov.viz.annot import show_segments\n",
    "ax=plot_arm(\n",
    "    data=cytobands.query(expr=f\"`chromosome` == '{chromosome}' & `arm` == '{arm}'\"),\n",
    "    figsize=[8,1],\n",
    ")\n",
    "show_segments(\n",
    "    ax=ax,\n",
    "    y=1.5,\n",
    "    offy=0.5,\n",
    "    kind='arrows',\n",
    "    segments_kws=dict(\n",
    "        a=np.arange(1000000,40000000,1),\n",
    "        size=5000000,\n",
    "        overlap_fraction=0.5,\n",
    "        stretch_last=True,\n",
    "    )\n",
    "    )\n",
    "_=ax.axis('off')\n",
    "ax.set(ylim=[-0.5,2])"
   ]
  },
  {
   "cell_type": "markdown",
   "id": "0790e9f7-b3ec-401e-88c3-9fb7f0f5fd4a",
   "metadata": {},
   "source": [
    "### `bands`"
   ]
  },
  {
   "cell_type": "code",
   "execution_count": 7,
   "id": "227d1d88-2d5d-4af7-bc4d-0b4d812e09fe",
   "metadata": {},
   "outputs": [
    {
     "data": {
      "text/plain": [
       "[(-0.5, 2.0)]"
      ]
     },
     "execution_count": 7,
     "metadata": {},
     "output_type": "execute_result"
    },
    {
     "data": {
      "image/png": "[encoded data removed]",
      "text/plain": [
       "<Figure size 800x100 with 1 Axes>"
      ]
     },
     "metadata": {},
     "output_type": "display_data"
    }
   ],
   "source": [
    "ax=plot_arm(\n",
    "    data=cytobands.query(expr=f\"`chromosome` == '{chromosome}' & `arm` == '{arm}'\"),\n",
    "    figsize=[8,1],\n",
    ")\n",
    "show_segments(\n",
    "    ax=ax,\n",
    "    y=1.5,\n",
    "    offy=0.5,\n",
    "    kind='bands',\n",
    "    segments_kws=dict(\n",
    "        a=np.arange(1000000,40000000,1),\n",
    "        size=5000000,\n",
    "        overlap_fraction=0.5,\n",
    "        stretch_last=True,\n",
    "    )\n",
    "    )\n",
    "_=ax.axis('off')\n",
    "ax.set(ylim=[-0.5,2])"
   ]
  },
  {
   "cell_type": "markdown",
   "id": "f6dab7e9-cf71-4b2d-8f9f-d29636d9d9ad",
   "metadata": {},
   "source": [
    "## Loci e.g. gene names\n",
    "\n",
    "Interactive ideogram for debugging: https://bioinformatics.mdanderson.org/ideogramviewer/Ideogram.html?genelist1=PPP1CC"
   ]
  },
  {
   "cell_type": "markdown",
   "id": "1474f300-b47b-4cf4-a0fa-5e9b6ba2d42c",
   "metadata": {},
   "source": [
    "**Demo data**"
   ]
  },
  {
   "cell_type": "code",
   "execution_count": 8,
   "id": "f5cdd0cf-d331-46dd-9b74-e5d627930bbf",
   "metadata": {},
   "outputs": [
    {
     "data": {
      "text/html": [
       "<div>\n",
       "<style scoped>\n",
       "    .dataframe tbody tr th:only-of-type {\n",
       "        vertical-align: middle;\n",
       "    }\n",
       "\n",
       "    .dataframe tbody tr th {\n",
       "        vertical-align: top;\n",
       "    }\n",
       "\n",
       "    .dataframe thead th {\n",
       "        text-align: right;\n",
       "    }\n",
       "</style>\n",
       "<table border=\"1\" class=\"dataframe\">\n",
       "  <thead>\n",
       "    <tr style=\"text-align: right;\">\n",
       "      <th></th>\n",
       "      <th>gene symbol</th>\n",
       "      <th>chromosome</th>\n",
       "      <th>gene start</th>\n",
       "      <th>value</th>\n",
       "    </tr>\n",
       "  </thead>\n",
       "  <tbody>\n",
       "    <tr>\n",
       "      <th>0</th>\n",
       "      <td>ATAD3B</td>\n",
       "      <td>1</td>\n",
       "      <td>1471765</td>\n",
       "      <td>0.005913</td>\n",
       "    </tr>\n",
       "  </tbody>\n",
       "</table>\n",
       "</div>"
      ],
      "text/plain": [
       "  gene symbol chromosome  gene start     value\n",
       "0      ATAD3B          1     1471765  0.005913"
      ]
     },
     "execution_count": 8,
     "metadata": {},
     "output_type": "execute_result"
    }
   ],
   "source": [
    "genes=pd.read_table(f'{input_dir_path}/genes.tsv',index_col=[0])\n",
    "genes=genes.assign(\n",
    "    value=lambda df: df['gene start']/df.groupby('chromosome')['gene start'].transform(max)\n",
    "    )\n",
    "genes.head(1)"
   ]
  },
  {
   "cell_type": "code",
   "execution_count": 9,
   "id": "c9a21522-ff4c-44eb-a0cc-11ced4062e26",
   "metadata": {},
   "outputs": [],
   "source": [
    "## input parameters\n",
    "test=False\n",
    "# test=True"
   ]
  },
  {
   "cell_type": "markdown",
   "id": "f051d40c-d53d-4673-8d48-0603aa7b7996",
   "metadata": {},
   "source": [
    "## Chromosomes"
   ]
  },
  {
   "cell_type": "code",
   "execution_count": 10,
   "id": "e1d9804d-6486-43e0-8ae8-952c1d04a6a4",
   "metadata": {},
   "outputs": [],
   "source": [
    "import seaborn as sns\n",
    "import roux.lib.df as rd"
   ]
  },
  {
   "cell_type": "code",
   "execution_count": 11,
   "id": "2be95d7f-ce68-4b90-a504-411e36ce79e0",
   "metadata": {},
   "outputs": [
    {
     "data": {
      "text/html": [
       "<div>\n",
       "<style scoped>\n",
       "    .dataframe tbody tr th:only-of-type {\n",
       "        vertical-align: middle;\n",
       "    }\n",
       "\n",
       "    .dataframe tbody tr th {\n",
       "        vertical-align: top;\n",
       "    }\n",
       "\n",
       "    .dataframe thead th {\n",
       "        text-align: right;\n",
       "    }\n",
       "</style>\n",
       "<table border=\"1\" class=\"dataframe\">\n",
       "  <thead>\n",
       "    <tr style=\"text-align: right;\">\n",
       "      <th></th>\n",
       "      <th>gene symbol</th>\n",
       "      <th>chromosome</th>\n",
       "      <th>gene start</th>\n",
       "      <th>value</th>\n",
       "    </tr>\n",
       "  </thead>\n",
       "  <tbody>\n",
       "    <tr>\n",
       "      <th>19816</th>\n",
       "      <td>P2RY4</td>\n",
       "      <td>X</td>\n",
       "      <td>70258166</td>\n",
       "      <td>0.450313</td>\n",
       "    </tr>\n",
       "    <tr>\n",
       "      <th>8086</th>\n",
       "      <td>ACTG1</td>\n",
       "      <td>17</td>\n",
       "      <td>81509413</td>\n",
       "      <td>0.981100</td>\n",
       "    </tr>\n",
       "    <tr>\n",
       "      <th>10523</th>\n",
       "      <td>ZNF638</td>\n",
       "      <td>2</td>\n",
       "      <td>71276561</td>\n",
       "      <td>0.294660</td>\n",
       "    </tr>\n",
       "    <tr>\n",
       "      <th>10550</th>\n",
       "      <td>BCL11A</td>\n",
       "      <td>2</td>\n",
       "      <td>60450520</td>\n",
       "      <td>0.249905</td>\n",
       "    </tr>\n",
       "    <tr>\n",
       "      <th>9957</th>\n",
       "      <td>NRTN</td>\n",
       "      <td>19</td>\n",
       "      <td>5805067</td>\n",
       "      <td>0.099127</td>\n",
       "    </tr>\n",
       "    <tr>\n",
       "      <th>757</th>\n",
       "      <td>CCDC24</td>\n",
       "      <td>1</td>\n",
       "      <td>43991359</td>\n",
       "      <td>0.176739</td>\n",
       "    </tr>\n",
       "    <tr>\n",
       "      <th>1850</th>\n",
       "      <td>CD160</td>\n",
       "      <td>1</td>\n",
       "      <td>145719471</td>\n",
       "      <td>0.585439</td>\n",
       "    </tr>\n",
       "    <tr>\n",
       "      <th>16736</th>\n",
       "      <td>AHR</td>\n",
       "      <td>7</td>\n",
       "      <td>16916359</td>\n",
       "      <td>0.106373</td>\n",
       "    </tr>\n",
       "    <tr>\n",
       "      <th>15270</th>\n",
       "      <td>ISOC1</td>\n",
       "      <td>5</td>\n",
       "      <td>129094749</td>\n",
       "      <td>0.711786</td>\n",
       "    </tr>\n",
       "    <tr>\n",
       "      <th>17913</th>\n",
       "      <td>PPDPFL</td>\n",
       "      <td>8</td>\n",
       "      <td>49054311</td>\n",
       "      <td>0.338183</td>\n",
       "    </tr>\n",
       "  </tbody>\n",
       "</table>\n",
       "</div>"
      ],
      "text/plain": [
       "      gene symbol chromosome  gene start     value\n",
       "19816       P2RY4          X    70258166  0.450313\n",
       "8086        ACTG1         17    81509413  0.981100\n",
       "10523      ZNF638          2    71276561  0.294660\n",
       "10550      BCL11A          2    60450520  0.249905\n",
       "9957         NRTN         19     5805067  0.099127\n",
       "757        CCDC24          1    43991359  0.176739\n",
       "1850        CD160          1   145719471  0.585439\n",
       "16736         AHR          7    16916359  0.106373\n",
       "15270       ISOC1          5   129094749  0.711786\n",
       "17913      PPDPFL          8    49054311  0.338183"
      ]
     },
     "execution_count": 11,
     "metadata": {},
     "output_type": "execute_result"
    }
   ],
   "source": [
    "data=(genes\n",
    "     ).sample(10,random_state=1)\n",
    "data"
   ]
  },
  {
   "cell_type": "code",
   "execution_count": 13,
   "id": "7972a840-1ee1-4105-bf3b-5b3e90d92858",
   "metadata": {},
   "outputs": [
    {
     "data": {
      "image/png": "[encoded data removed]",
      "text/plain": [
       "<Figure size 1500x300 with 1 Axes>"
      ]
     },
     "metadata": {},
     "output_type": "display_data"
    },
    {
     "data": {
      "image/png": "[encoded data removed]",
      "text/plain": [
       "<Figure size 1500x300 with 1 Axes>"
      ]
     },
     "metadata": {},
     "output_type": "display_data"
    }
   ],
   "source": [
    "from chrov.viz.chrom import annot_chroms,_concat_chroms\n",
    "from chrov.viz.annot import annot_labels\n",
    "for loc in ['out','in']:\n",
    "    fig,ax=plt.subplots(figsize=[15,3])\n",
    "    ax_chrom,df1=annot_chroms(\n",
    "        # ax=ax,\n",
    "        data=cytobands,\n",
    "        chromosomes=data['chromosome'].unique(),\n",
    "        ax_chrom=ax,\n",
    "        chrom_y=0,\n",
    "        out_data=True,\n",
    "        )\n",
    "    # ax_chrom.set(ylim=[-0.5,0.1])\n",
    "    ## rescale the genome coordinates by the joined chromosomes\n",
    "    colx='gene start'\n",
    "    df2=_concat_chroms(\n",
    "        data,\n",
    "        col_start=colx,\n",
    "        col_end=colx,\n",
    "        col_chroms_start=colx+' chroms',\n",
    "        col_chroms_end=colx+' chroms',\n",
    "        genome_ends=df1.set_index('chromosome')['genome end'],\n",
    "    )\n",
    "    _=annot_labels(\n",
    "        ax_chrom=ax_chrom, # A\n",
    "        loc=loc,\n",
    "        colx=colx+' chroms',\n",
    "        data=df2,\n",
    "        chrom_y=0,\n",
    "        col_label='gene symbol',\n",
    "        # yoff_scales=[0.7,0.6,0.01],\n",
    "        fig=fig,\n",
    "        test=test,\n",
    "        )"
   ]
  }
 ],
 "metadata": {
  "kernelspec": {
   "display_name": "chrov",
   "language": "python",
   "name": "chrov"
  },
  "language_info": {
   "codemirror_mode": {
    "name": "ipython",
    "version": 3
   },
   "file_extension": ".py",
   "mimetype": "text/x-python",
   "name": "python",
   "nbconvert_exporter": "python",
   "pygments_lexer": "ipython3",
   "version": "3.7.12"
  }
 },
 "nbformat": 4,
 "nbformat_minor": 5
}
