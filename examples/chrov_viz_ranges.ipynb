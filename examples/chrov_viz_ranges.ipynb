{
 "cells": [
  {
   "cell_type": "markdown",
   "id": "c65b049b-2df9-4f84-abe4-2936eca9ae6d",
   "metadata": {},
   "source": [
    "---\n",
    "# ↔️↔️Visualization of intervals/ranges/segments along a chromosome arm"
   ]
  },
  {
   "cell_type": "code",
   "execution_count": 1,
   "id": "4a735619-912a-4c34-9e67-b95a4ff27bbe",
   "metadata": {
    "tags": []
   },
   "outputs": [],
   "source": [
    "## requirements\n",
    "import pandas as pd\n",
    "import matplotlib.pyplot as plt\n",
    "\n",
    "## function from the chrov package\n",
    "from chrov.viz.ranges import plot_ranges"
   ]
  },
  {
   "cell_type": "code",
   "execution_count": 2,
   "id": "6aa070c6-357c-40a9-b636-57ae64074b0c",
   "metadata": {
    "tags": [
     "parameters"
    ]
   },
   "outputs": [],
   "source": [
    "## input parameters\n",
    "chromosome='4'\n",
    "arm='p'\n",
    "test=False\n",
    "# test=True\n",
    "input_dir_path='inputs'\n",
    "output_dir_path='outputs'"
   ]
  },
  {
   "cell_type": "code",
   "execution_count": 3,
   "id": "2835cc63-ee2e-446a-85cb-c6ceccfd2520",
   "metadata": {
    "tags": []
   },
   "outputs": [],
   "source": [
    "## set the current directory to 'examples'\n",
    "import os\n",
    "if len(set(['chrov','examples','tests']) - set(os.listdir('.')))==0:\n",
    "    ## change the current directory from 'chrov' to 'examples'\n",
    "    os.chdir('./examples')"
   ]
  },
  {
   "cell_type": "code",
   "execution_count": 4,
   "id": "e4cf5284-389c-4abc-8851-5f9621a45ad6",
   "metadata": {
    "tags": []
   },
   "outputs": [],
   "source": [
    "if test:\n",
    "    import logging\n",
    "    logging.basicConfig(level=logging.INFO)\n",
    "from os import makedirs\n",
    "makedirs(output_dir_path,exist_ok=True)"
   ]
  },
  {
   "cell_type": "markdown",
   "id": "112e508e-0f15-4840-be85-dcdb2023154c",
   "metadata": {},
   "source": [
    "**Demo data**"
   ]
  },
  {
   "cell_type": "code",
   "execution_count": 5,
   "id": "5753ed8f-d27f-4d3e-8adb-e3dd9ec8518d",
   "metadata": {
    "tags": [
     "parameters"
    ]
   },
   "outputs": [
    {
     "data": {
      "text/html": [
       "<div>\n",
       "<style scoped>\n",
       "    .dataframe tbody tr th:only-of-type {\n",
       "        vertical-align: middle;\n",
       "    }\n",
       "\n",
       "    .dataframe tbody tr th {\n",
       "        vertical-align: top;\n",
       "    }\n",
       "\n",
       "    .dataframe thead th {\n",
       "        text-align: right;\n",
       "    }\n",
       "</style>\n",
       "<table border=\"1\" class=\"dataframe\">\n",
       "  <thead>\n",
       "    <tr style=\"text-align: right;\">\n",
       "      <th></th>\n",
       "      <th>sample id</th>\n",
       "      <th>sample name</th>\n",
       "      <th>start</th>\n",
       "      <th>end</th>\n",
       "      <th>copy number status</th>\n",
       "      <th>segment id</th>\n",
       "      <th>copy number</th>\n",
       "    </tr>\n",
       "  </thead>\n",
       "  <tbody>\n",
       "    <tr>\n",
       "      <th>0</th>\n",
       "      <td>ACH-000988</td>\n",
       "      <td>MFE319</td>\n",
       "      <td>0</td>\n",
       "      <td>8950368</td>\n",
       "      <td>0</td>\n",
       "      <td>0</td>\n",
       "      <td>0.0</td>\n",
       "    </tr>\n",
       "    <tr>\n",
       "      <th>1</th>\n",
       "      <td>ACH-000192</td>\n",
       "      <td>MFE280</td>\n",
       "      <td>40316224</td>\n",
       "      <td>48785023</td>\n",
       "      <td>0</td>\n",
       "      <td>1</td>\n",
       "      <td>0.0</td>\n",
       "    </tr>\n",
       "    <tr>\n",
       "      <th>2</th>\n",
       "      <td>ACH-000988</td>\n",
       "      <td>MFE319</td>\n",
       "      <td>20196537</td>\n",
       "      <td>49091023</td>\n",
       "      <td>0</td>\n",
       "      <td>2</td>\n",
       "      <td>0.0</td>\n",
       "    </tr>\n",
       "    <tr>\n",
       "      <th>3</th>\n",
       "      <td>ACH-000988</td>\n",
       "      <td>MFE319</td>\n",
       "      <td>9484369</td>\n",
       "      <td>18509718</td>\n",
       "      <td>0</td>\n",
       "      <td>3</td>\n",
       "      <td>0.0</td>\n",
       "    </tr>\n",
       "    <tr>\n",
       "      <th>4</th>\n",
       "      <td>ACH-000192</td>\n",
       "      <td>MFE280</td>\n",
       "      <td>9488369</td>\n",
       "      <td>16267879</td>\n",
       "      <td>0</td>\n",
       "      <td>4</td>\n",
       "      <td>0.0</td>\n",
       "    </tr>\n",
       "  </tbody>\n",
       "</table>\n",
       "</div>"
      ],
      "text/plain": [
       "    sample id sample name     start       end copy number status  segment id  \\\n",
       "0  ACH-000988      MFE319         0   8950368                  0           0   \n",
       "1  ACH-000192      MFE280  40316224  48785023                  0           1   \n",
       "2  ACH-000988      MFE319  20196537  49091023                  0           2   \n",
       "3  ACH-000988      MFE319   9484369  18509718                  0           3   \n",
       "4  ACH-000192      MFE280   9488369  16267879                  0           4   \n",
       "\n",
       "   copy number  \n",
       "0          0.0  \n",
       "1          0.0  \n",
       "2          0.0  \n",
       "3          0.0  \n",
       "4          0.0  "
      ]
     },
     "execution_count": 5,
     "metadata": {},
     "output_type": "execute_result"
    }
   ],
   "source": [
    "# table containing the coordinates \n",
    "data=pd.DataFrame({'sample id': ['ACH-000988', 'ACH-000192', 'ACH-000988', 'ACH-000988', 'ACH-000192', 'ACH-000192', 'ACH-000192', 'ACH-000192', 'ACH-000192', 'ACH-000192', 'ACH-000988', 'ACH-000988', 'ACH-000192', 'ACH-000192', 'ACH-000192', 'ACH-000192', 'ACH-000192', 'ACH-000988', 'ACH-000988', 'ACH-000192', 'ACH-000192', 'ACH-000192'], 'sample name': ['MFE319', 'MFE280', 'MFE319', 'MFE319', 'MFE280', 'MFE280', 'MFE280', 'MFE280', 'MFE280', 'MFE280', 'MFE319', 'MFE319', 'MFE280', 'MFE280', 'MFE280', 'MFE280', 'MFE280', 'MFE319', 'MFE319', 'MFE280', 'MFE280', 'MFE280'], 'start': [0, 40316224, 20196537, 9484369, 9488369, 34734023, 2004935, 6651622, 37409175, 0, 18509719, 19486198, 25287591, 21093070, 17701719, 32259509, 16267880, 8950369, 18679719, 8974369, 6649622, 1460895], 'end': [8950368, 48785023, 49091023, 18509718, 16267879, 37409174, 6649621, 8974368, 40316223, 1460894, 18679718, 20196536, 32259508, 25287590, 21093069, 34734022, 17701718, 9484368, 19486197, 9488368, 6651621, 2004934], 'copy number status': ['0', '0', '0', '0', '0', '0', '0', '0', '-', '-', '-', '-', '+', '+', '+', '+', '+', '+', '+', '+', '+', '+'], 'segment id': [0, 1, 2, 3, 4, 5, 6, 7, 8, 9, 10, 11, 12, 13, 14, 15, 16, 17, 18, 19, 20, 21]})\n",
    "## values\n",
    "import numpy as np\n",
    "np.random.seed(0)\n",
    "data=data.assign(\n",
    "    **{\"copy number\": lambda df: df.apply(lambda x: 0 if x['copy number status']=='0' else -1*np.random.ranf() if x['copy number status']=='-' else np.random.ranf(),axis=1)}\n",
    "    )\n",
    "data.head()"
   ]
  },
  {
   "cell_type": "code",
   "execution_count": 6,
   "id": "3727676f-9b1a-4697-90a5-5e9732c93e06",
   "metadata": {
    "tags": []
   },
   "outputs": [
    {
     "data": {
      "text/html": [
       "<div>\n",
       "<style scoped>\n",
       "    .dataframe tbody tr th:only-of-type {\n",
       "        vertical-align: middle;\n",
       "    }\n",
       "\n",
       "    .dataframe tbody tr th {\n",
       "        vertical-align: top;\n",
       "    }\n",
       "\n",
       "    .dataframe thead th {\n",
       "        text-align: right;\n",
       "    }\n",
       "</style>\n",
       "<table border=\"1\" class=\"dataframe\">\n",
       "  <thead>\n",
       "    <tr style=\"text-align: right;\">\n",
       "      <th></th>\n",
       "      <th>chromosome</th>\n",
       "      <th>p start</th>\n",
       "      <th>q end</th>\n",
       "      <th>start</th>\n",
       "      <th>end</th>\n",
       "      <th>cytoband</th>\n",
       "      <th>cytoband type</th>\n",
       "      <th>arm</th>\n",
       "      <th>chromosome arm</th>\n",
       "    </tr>\n",
       "  </thead>\n",
       "  <tbody>\n",
       "    <tr>\n",
       "      <th>544</th>\n",
       "      <td>4</td>\n",
       "      <td>48200001</td>\n",
       "      <td>51800000</td>\n",
       "      <td>1</td>\n",
       "      <td>4500000</td>\n",
       "      <td>p16.3</td>\n",
       "      <td>gneg</td>\n",
       "      <td>p</td>\n",
       "      <td>chr4p</td>\n",
       "    </tr>\n",
       "  </tbody>\n",
       "</table>\n",
       "</div>"
      ],
      "text/plain": [
       "    chromosome   p start     q end  start      end cytoband cytoband type arm  \\\n",
       "544          4  48200001  51800000      1  4500000    p16.3          gneg   p   \n",
       "\n",
       "    chromosome arm  \n",
       "544          chr4p  "
      ]
     },
     "execution_count": 6,
     "metadata": {},
     "output_type": "execute_result"
    }
   ],
   "source": [
    "# cytobands to plot the chromosome\n",
    "cytobands=pd.read_table(\n",
    "    f'{input_dir_path}/cytobands.tsv',\n",
    "    index_col=[0],\n",
    ").query(expr=f\"`chromosome` == '{chromosome}' & `arm` == '{arm}'\")\n",
    "cytobands.head(1)"
   ]
  },
  {
   "cell_type": "markdown",
   "id": "57f685bf-84fa-47df-947c-e5e1383e692b",
   "metadata": {
    "tags": []
   },
   "source": [
    "### `joined` layout"
   ]
  },
  {
   "cell_type": "code",
   "execution_count": 8,
   "id": "0e60665a-aaf1-4e99-8306-db5cc719e285",
   "metadata": {},
   "outputs": [
    {
     "data": {
      "image/png": "[encoded data removed]",
      "text/plain": [
       "<Figure size 300x150 with 1 Axes>"
      ]
     },
     "metadata": {},
     "output_type": "display_data"
    }
   ],
   "source": [
    "fig,ax=plt.subplots(\n",
    "    figsize=[3,1.5],\n",
    ")\n",
    "_=plot_ranges(\n",
    "    data=data,\n",
    "    col_id='sample id',\n",
    "    col_label='sample name',\n",
    "    hue='copy number status',\n",
    "    col_start='start',\n",
    "    col_end='end',\n",
    "    col_sortby='sample name',\n",
    "    kind='joined',\n",
    "    start=0,end=48200001,\n",
    "    cytobands=cytobands,\n",
    "    colors={'-':'r','0':'gray','+':'b'},\n",
    "    show_segments=False,\n",
    "    ax=ax,\n",
    "    test=False,\n",
    "    )\n",
    "plt.savefig(f\"{output_dir_path}/ranges_joined.png\",bbox_inches='tight')"
   ]
  },
  {
   "cell_type": "markdown",
   "id": "0698367b-3a04-4973-8d85-7401c8d2f1ff",
   "metadata": {},
   "source": [
    "#### Show numerical values "
   ]
  },
  {
   "cell_type": "code",
   "execution_count": 7,
   "id": "45c35001-eda8-4ef5-9959-c0be9576cb29",
   "metadata": {
    "tags": []
   },
   "outputs": [
    {
     "data": {
      "image/png": "[encoded data removed]",
      "text/plain": [
       "<Figure size 300x150 with 1 Axes>"
      ]
     },
     "metadata": {},
     "output_type": "display_data"
    }
   ],
   "source": [
    "fig,ax=plt.subplots(\n",
    "    figsize=[3,1.5],\n",
    ")\n",
    "_=plot_ranges(\n",
    "    data=data,\n",
    "    col_id='sample id',\n",
    "    col_label='sample name',\n",
    "    hue='copy number',\n",
    "    col_start='start',\n",
    "    col_end='end',\n",
    "    col_sortby='sample name',\n",
    "    kind='joined',\n",
    "    start=0,end=48200001,\n",
    "    cytobands=cytobands,    \n",
    "    palette='RdBu', ## colormap\n",
    "    hue_lim=[-1,1], ## limits on values shown\n",
    "    show_segments=False,\n",
    "    ax=ax,\n",
    "    test=False,\n",
    "    )\n",
    "plt.savefig(f\"{output_dir_path}/ranges_joined_numerical.png\",bbox_inches='tight')"
   ]
  },
  {
   "cell_type": "markdown",
   "id": "d51f83bd-9ff9-4691-9026-f3d70e847346",
   "metadata": {
    "tags": []
   },
   "source": [
    "### `split` layout"
   ]
  },
  {
   "cell_type": "code",
   "execution_count": 9,
   "id": "426fc9e3-8185-4dde-9588-499fa6d42225",
   "metadata": {
    "tags": []
   },
   "outputs": [
    {
     "data": {
      "image/png": "[encoded data removed]",
      "text/plain": [
       "<Figure size 300x550 with 1 Axes>"
      ]
     },
     "metadata": {},
     "output_type": "display_data"
    }
   ],
   "source": [
    "fig,ax=plt.subplots(\n",
    "    figsize=[3,len(data)*0.25],\n",
    ")\n",
    "_=plot_ranges(\n",
    "    data=data,\n",
    "    col_id='segment id',\n",
    "    hue='copy number status',\n",
    "    col_start='start',\n",
    "    col_end='end',\n",
    "    col_sortby=['sample id','start'],\n",
    "    col_groupby='sample name',\n",
    "    start=0,end=48200001,\n",
    "    cytobands=cytobands,\n",
    "    colors={'-':'r','0':'gray','+':'b'},\n",
    "    show_segments=False,\n",
    "    ax=ax,\n",
    "    )\n",
    "plt.savefig(f\"{output_dir_path}/ranges_split.png\",bbox_inches='tight')"
   ]
  },
  {
   "cell_type": "markdown",
   "id": "29cea8c0-d39c-4012-a6d3-8365766b1e27",
   "metadata": {},
   "source": [
    "#### Show numerical values "
   ]
  },
  {
   "cell_type": "code",
   "execution_count": 13,
   "id": "346b8f0c-f468-4773-82a8-0d9d1ed3bb28",
   "metadata": {
    "tags": []
   },
   "outputs": [
    {
     "data": {
      "image/png": "[encoded data removed]",
      "text/plain": [
       "<Figure size 300x550 with 1 Axes>"
      ]
     },
     "metadata": {},
     "output_type": "display_data"
    }
   ],
   "source": [
    "fig,ax=plt.subplots(\n",
    "    figsize=[3,len(data)*0.25],\n",
    ")\n",
    "_=plot_ranges(\n",
    "    data=data,\n",
    "    col_id='segment id',\n",
    "    hue='copy number',\n",
    "    col_start='start',\n",
    "    col_end='end',\n",
    "    col_sortby=['sample id','start'],\n",
    "    col_groupby='sample name',\n",
    "    start=0,end=48200001,\n",
    "    cytobands=cytobands,   \n",
    "    palette='RdBu', ## colormap\n",
    "    hue_lim=[-1,1], ## limits on values shown\n",
    "    show_segments=False,\n",
    "    col_label='copy number status',\n",
    "    ax=ax,\n",
    "    test=False,\n",
    "    )\n",
    "plt.savefig(f\"{output_dir_path}/ranges_split_numerical.png\",bbox_inches='tight')"
   ]
  }
 ],
 "metadata": {
  "kernelspec": {
   "display_name": "chrov",
   "language": "python",
   "name": "chrov"
  },
  "language_info": {
   "codemirror_mode": {
    "name": "ipython",
    "version": 3
   },
   "file_extension": ".py",
   "mimetype": "text/x-python",
   "name": "python",
   "nbconvert_exporter": "python",
   "pygments_lexer": "ipython3",
   "version": "3.7.12"
  }
 },
 "nbformat": 4,
 "nbformat_minor": 5
}
