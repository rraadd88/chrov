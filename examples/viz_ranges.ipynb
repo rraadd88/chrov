{
 "cells": [
  {
   "cell_type": "markdown",
   "id": "c65b049b-2df9-4f84-abe4-2936eca9ae6d",
   "metadata": {},
   "source": [
    "---\n",
    "# ↔️↔️Visualization of intervals/ranges/segments along a chromosome arm"
   ]
  },
  {
   "cell_type": "code",
   "execution_count": 1,
   "id": "2af74fda-0864-41b9-a294-572b35531e43",
   "metadata": {},
   "outputs": [],
   "source": [
    "# | default_exp ranges\n",
    "kws_nb_export=dict(\n",
    "    nbname='viz_ranges.ipynb',\n",
    "    lib_path='../modules/viz/'\n",
    ")"
   ]
  },
  {
   "cell_type": "code",
   "execution_count": 2,
   "id": "188c507e-3b73-4bb5-8920-c56528f4fcb4",
   "metadata": {},
   "outputs": [],
   "source": [
    "# | export\n",
    "\n",
    "import numpy as np\n",
    "import pandas as pd\n",
    "\n",
    "import matplotlib.pyplot as plt\n",
    "\n",
    "\n",
    "from chrov.viz.chrom import plot_arm\n",
    "\n",
    "\n",
    "def plot_ranges(\n",
    "    data: pd.DataFrame,\n",
    "    col_id: str,\n",
    "    col_start: str,\n",
    "    col_end: str,\n",
    "    start: int = None,\n",
    "    end: int = None,\n",
    "    y=None,  # rank\n",
    "    kind=None,\n",
    "    strand: str = \"+\",\n",
    "    cytobands: dict = None,\n",
    "    cytobands_y: float = None,\n",
    "    col_groupby: str = None,\n",
    "    group_x: float = -0.22,\n",
    "    # col_sortby: str=None,\n",
    "    sort_ascending: bool = False,\n",
    "    show_labels: str = True,\n",
    "    col_label: str = None,\n",
    "    col_label_right: str = None,\n",
    "    \n",
    "    hue: str = None, # col\n",
    "    color: str = \"b\", # fixed color\n",
    "    colors: dict = {}, # mapped to col_id\n",
    "    palette: str = \"Set2\",    \n",
    "    hue_lim: list = [],\n",
    "    \n",
    "    lw: int = 10,\n",
    "    zorders: dict = None,\n",
    "    show_segments: bool = False,\n",
    "    xtick_interval: float = None,\n",
    "    unit: str = \"Coordinate (bp)\",\n",
    "    test: bool = False,\n",
    "    kws_legend: dict = {},\n",
    "    kws_hlines: dict = {},\n",
    "    ax: plt.Axes = None,\n",
    ") -> plt.Axes:\n",
    "    \"\"\"Plot ranges.\n",
    "\n",
    "    Args:\n",
    "        data (pd.DataFrame): input data.\n",
    "        col_id (str): column with ids.\n",
    "        col_start (str): column with start co-ordinates.\n",
    "        col_end (str): column with end co-ordinates.\n",
    "        end (int): end position for the plot\n",
    "        start (int, optional): start position for the plot. Defaults to 0.\n",
    "        hue (str, optional): column with color. Defaults to None.\n",
    "        y (_type_, optional): column with y positions. Defaults to None.\n",
    "        cytobands (dict, optional): cytobands to plot the chromosomes. Defaults to None.\n",
    "        cytobands_y (float, optional): cytobands y-position. Defaults to None.\n",
    "        col_groupby (str, optional): column to group by. Defaults to None.\n",
    "        col_sortby (str, optional): column to sort by. Defaults to None.\n",
    "        col_label (str, optional): column with labels. Defaults to None.\n",
    "        col_label_right (str, optional): column with labels to be shown on the right side of the ranges. Defaults to None.\n",
    "        colors (dict, optional): colors. Defaults to None.\n",
    "        lw (int, optional): line width. Defaults to 10.\n",
    "        zorders (dict, optional): z-orders. Defaults to None.\n",
    "        show_segments (bool, optional): show segments. Defaults to False.\n",
    "        xtick_interval (float, optional): x tick intervals. Defaults to None.\n",
    "        test (bool, optional): test-mode. Defaults to False.\n",
    "        ax (plt.Axes, optional): subplot. Defaults to None.\n",
    "\n",
    "    Raises:\n",
    "        ValueError: if kind is not 'split','separate' or 'joined'\n",
    "\n",
    "    Returns:\n",
    "        plt.Axes: subplot\n",
    "    \"\"\"\n",
    "    assert len(data) != 0\n",
    "\n",
    "    if ax is None:\n",
    "        # fig,ax=plt.subplots(figsize=[3,len(data)*0.05])\n",
    "        ax = plt.gca()\n",
    "    from roux.viz.ax_ import set_legend_custom\n",
    "\n",
    "    if start is None:\n",
    "        start = data[col_start].min()\n",
    "    if end is None:\n",
    "        end = data[col_end].max()\n",
    "\n",
    "    assert not all(data[col_start] == data[col_end]), \"lengths of all ranges is 0.\"\n",
    "    ## trim data\n",
    "    df1 = (\n",
    "        data.log.dropna(subset=[col_id, col_start, col_end])\n",
    "        # .sort_values(col_start,ascending=False)\n",
    "        .assign(\n",
    "            **{\n",
    "                col_start: lambda df: df[col_start].apply(\n",
    "                    lambda x: x if x >= start else start\n",
    "                ),  # trim\n",
    "                col_end: lambda df: df[col_end].apply(\n",
    "                    lambda x: x if x <= end else end\n",
    "                ),  # trim\n",
    "            }\n",
    "        )\n",
    "    )\n",
    "    ## test for unique ids\n",
    "    if kind is not None:\n",
    "        if kind.lower().startswith(\"join\"):\n",
    "            col_label = None\n",
    "    if col_label is None:\n",
    "        col_label = col_id\n",
    "\n",
    "    # if not col_sortby is None:\n",
    "    #     df1=df1.sort_values(col_sortby,ascending=sort_ascending)\n",
    "\n",
    "    if y is None:\n",
    "        y = \"y\"\n",
    "        if kind in [None, \"split\", \"separate\"]:\n",
    "            df1 = df1.rd.assert_no_dups(col_id).assign(\n",
    "                **{\n",
    "                    y: np.arange(len(df1)),\n",
    "                }\n",
    "            )\n",
    "        elif kind == \"joined\":\n",
    "            df1 = df1.assign(\n",
    "                **{\n",
    "                    y: lambda df: df.groupby(col_id, sort=False)[col_id].ngroup()\n",
    "                }  # .transform(lambda x: range(len(x))))\n",
    "            )\n",
    "        else:\n",
    "            raise ValueError(kind)\n",
    "        assert y in df1\n",
    "        \n",
    "    if hue is not None:\n",
    "        ## get colors\n",
    "        if df1[hue].dtype == \"float\":\n",
    "            from roux.viz.colors import get_val2color\n",
    "\n",
    "            colors, vals2colors = get_val2color(\n",
    "                df1[hue],\n",
    "                vmin=hue_lim[0],\n",
    "                vmax=hue_lim[1],\n",
    "                cmap=palette,\n",
    "            )\n",
    "        else:\n",
    "            if len(colors)==0:\n",
    "                from roux.viz.colors import get_ncolors\n",
    "\n",
    "                colors = get_ncolors(\n",
    "                    df1[hue].nunique(),\n",
    "                    cmap=palette,\n",
    "                )\n",
    "            if isinstance(colors, list):\n",
    "                colors = dict(zip(df1[hue].unique(), colors))\n",
    "        col_hue=hue \n",
    "        del hue\n",
    "    else:\n",
    "        col_hue=col_id\n",
    "    assert isinstance(colors, dict), colors\n",
    "        \n",
    "    if zorders is None:\n",
    "        zorders = {}\n",
    "\n",
    "    ## lines\n",
    "    _ = df1.apply(\n",
    "        lambda x: ax.hlines(\n",
    "            y=x[y],\n",
    "            xmin=x[col_start],\n",
    "            xmax=x[col_end],\n",
    "            color=colors.get(x[col_hue],color),\n",
    "            lw=lw,\n",
    "            **kws_hlines,\n",
    "        )\n",
    "        if not pd.isnull(x[y])\n",
    "        else None,\n",
    "        axis=1,\n",
    "    )\n",
    "    ax.invert_yaxis()\n",
    "    # labels\n",
    "    if show_labels:\n",
    "        if kind in [None, \"split\", \"separate\"]:\n",
    "            _ = df1.apply(\n",
    "                lambda x: ax.text(\n",
    "                    x=x[col_start],\n",
    "                    y=x[y],\n",
    "                    s=f\"{x[col_label]} \",\n",
    "                    ha=\"right\",\n",
    "                    va=\"center\",\n",
    "                    # color=x['label_color'],\n",
    "                )\n",
    "                if not pd.isnull(x[y])\n",
    "                else None,\n",
    "                axis=1,\n",
    "            )\n",
    "            if col_label_right is not None:\n",
    "                _ = df1.apply(\n",
    "                    lambda x: ax.text(\n",
    "                        x=x[col_end],\n",
    "                        y=x[y],\n",
    "                        s=f\"{x[col_label_right]} \",\n",
    "                        ha=\"left\",\n",
    "                        va=\"center\",\n",
    "                        # color=x['label_color'],\n",
    "                    ),\n",
    "                    axis=1,\n",
    "                )\n",
    "        elif kind.lower().startswith(\"join\"):\n",
    "            _ = (\n",
    "                df1.loc[:, [col_label, y]]\n",
    "                .drop_duplicates()\n",
    "                .apply(\n",
    "                    lambda x: ax.text(\n",
    "                        x=start if strand != \"-\" else end,\n",
    "                        y=x[y],\n",
    "                        s=f\"{x[col_label]} \",\n",
    "                        ha=\"right\",\n",
    "                        va=\"center\",\n",
    "                        # color=x['label_color'],\n",
    "                    ),\n",
    "                    axis=1,\n",
    "                )\n",
    "            )\n",
    "    # _=df1.apply(lambda x: ax.plot(\n",
    "    #     [x['start'],x['end']],[x[y],x[y]],\n",
    "    #     color=colors[x[hue]] if x[hue] in colors else 'w',\n",
    "    #     # alpha=1,\n",
    "    #     solid_capstyle='butt',\n",
    "    #     # zorder=2,\n",
    "    #     zorder=zorders[x[hue]] if x[hue] in zorders else 2,\n",
    "    #     lw=lw,\n",
    "    #     ),\n",
    "    #     axis=1)\n",
    "    if cytobands is not None:\n",
    "        if cytobands_y is None:\n",
    "            cytobands_y = df1[\"y\"].max() + 1\n",
    "        plot_arm(\n",
    "            cytobands,\n",
    "            y=cytobands_y,\n",
    "            lw=lw,\n",
    "            ax=ax,\n",
    "            test=True,\n",
    "        )\n",
    "    if show_segments:\n",
    "        from chrov.viz.chr import plot_segments\n",
    "\n",
    "        plot_segments(ax)\n",
    "\n",
    "    if len(colors)!=0:\n",
    "        set_legend_custom(\n",
    "            ax,\n",
    "            legend2param=vals2colors if df1[col_hue].dtype == \"float\" else colors,\n",
    "            param=\"color\",\n",
    "            lw=lw,\n",
    "            marker=None,\n",
    "            markerfacecolor=True,\n",
    "            size=10,\n",
    "            color=\"k\",\n",
    "            linestyle=\"-\",\n",
    "            **{\n",
    "                **dict(\n",
    "                    title=col_hue,\n",
    "                    frameon=False,\n",
    "                    bbox_to_anchor=[0.5, 0],\n",
    "                    loc=\"upper center\",\n",
    "                    ncol=3,\n",
    "                    handlelength=0.1,\n",
    "                ),\n",
    "                **kws_legend,\n",
    "            },\n",
    "        )\n",
    "\n",
    "    ## show groups\n",
    "    if col_groupby in df1:\n",
    "        df_ = df1.loc[:, [y, col_groupby]].drop_duplicates()\n",
    "        ax.set(\n",
    "            yticks=df_[y].tolist(),\n",
    "            yticklabels=df_.apply(\n",
    "                lambda x: f\"{x[col_groupby]}:{x[y]}\",\n",
    "                axis=1,\n",
    "            ),\n",
    "        )\n",
    "        from roux.viz.ax_ import split_ticklabels\n",
    "\n",
    "        split_ticklabels(\n",
    "            ax=ax,\n",
    "            axis=\"y\",\n",
    "            fmt=\"group\",\n",
    "            sep=\":\",\n",
    "            group_x=group_x,  ## todo: infer\n",
    "            test=test,\n",
    "        )\n",
    "    # else:\n",
    "    if not test:\n",
    "        ax.axes.yaxis.set_visible(test)\n",
    "\n",
    "    ax.xaxis.tick_top()\n",
    "    ax.xaxis.set_label_position(\"top\")\n",
    "    ax.spines[\"top\"].set_color(\"k\")\n",
    "    if cytobands_y is not None:\n",
    "        ax.spines[\"top\"].set_position((\"data\", cytobands_y + 0.25))\n",
    "\n",
    "    # removing the ax box lines\n",
    "    _ = plt.setp(\n",
    "        ax.spines.values(),\n",
    "        zorder=0,\n",
    "        color=\"none\",\n",
    "    )\n",
    "    # _=plt.setp([ax.get_xticklines(), ax.get_yticklines()], zorder=0)\n",
    "\n",
    "    if xtick_interval is not None:\n",
    "        ## set tick intervals\n",
    "        import matplotlib.ticker as plticker\n",
    "\n",
    "        loc = plticker.MultipleLocator(\n",
    "            base=xtick_interval\n",
    "        )  # this locator puts ticks at regular intervals\n",
    "        ax.xaxis.set_major_locator(loc)\n",
    "\n",
    "    ax.set(\n",
    "        xlim=[start, end],\n",
    "        ylim=[df1[y].min() - 0.5, df1[y].max() + 1.5],\n",
    "        xlabel=unit,\n",
    "    )\n",
    "    if strand == \"-\":\n",
    "        ax.invert_xaxis()\n",
    "    return ax\n"
   ]
  },
  {
   "cell_type": "markdown",
   "id": "e90ff5aa-fda5-41a3-99d7-8798ecdecd07",
   "metadata": {},
   "source": [
    "## Tests"
   ]
  },
  {
   "cell_type": "code",
   "execution_count": 3,
   "id": "4a735619-912a-4c34-9e67-b95a4ff27bbe",
   "metadata": {
    "tags": []
   },
   "outputs": [],
   "source": [
    "# ## requirements\n",
    "# import pandas as pd\n",
    "# import matplotlib.pyplot as plt\n",
    "\n",
    "# ## function from the chrov package\n",
    "# from chrov.viz.ranges import plot_ranges"
   ]
  },
  {
   "cell_type": "code",
   "execution_count": 4,
   "id": "6aa070c6-357c-40a9-b636-57ae64074b0c",
   "metadata": {
    "tags": [
     "parameters"
    ]
   },
   "outputs": [],
   "source": [
    "## input parameters\n",
    "chromosome='4'\n",
    "arm='p'\n",
    "test=False\n",
    "# test=True\n",
    "input_dir_path='../modules/inputs'\n",
    "output_dir_path='outputs'"
   ]
  },
  {
   "cell_type": "code",
   "execution_count": 5,
   "id": "2835cc63-ee2e-446a-85cb-c6ceccfd2520",
   "metadata": {
    "tags": []
   },
   "outputs": [],
   "source": [
    "## set the current directory to 'examples'\n",
    "import os\n",
    "if len(set(['modules','examples','tests']) - set(os.listdir('.')))==0:\n",
    "    ## change the current directory from 'chrov' to 'examples'\n",
    "    os.chdir('./examples')"
   ]
  },
  {
   "cell_type": "code",
   "execution_count": 6,
   "id": "e4cf5284-389c-4abc-8851-5f9621a45ad6",
   "metadata": {
    "tags": []
   },
   "outputs": [],
   "source": [
    "if test:\n",
    "    import logging\n",
    "    logging.basicConfig(level=logging.INFO)\n",
    "from os import makedirs\n",
    "makedirs(output_dir_path,exist_ok=True)"
   ]
  },
  {
   "cell_type": "markdown",
   "id": "112e508e-0f15-4840-be85-dcdb2023154c",
   "metadata": {},
   "source": [
    "**Demo data**"
   ]
  },
  {
   "cell_type": "code",
   "execution_count": 7,
   "id": "5753ed8f-d27f-4d3e-8adb-e3dd9ec8518d",
   "metadata": {
    "tags": [
     "parameters"
    ]
   },
   "outputs": [
    {
     "data": {
      "text/html": [
       "<div>\n",
       "<style scoped>\n",
       "    .dataframe tbody tr th:only-of-type {\n",
       "        vertical-align: middle;\n",
       "    }\n",
       "\n",
       "    .dataframe tbody tr th {\n",
       "        vertical-align: top;\n",
       "    }\n",
       "\n",
       "    .dataframe thead th {\n",
       "        text-align: right;\n",
       "    }\n",
       "</style>\n",
       "<table border=\"1\" class=\"dataframe\">\n",
       "  <thead>\n",
       "    <tr style=\"text-align: right;\">\n",
       "      <th></th>\n",
       "      <th>sample id</th>\n",
       "      <th>sample name</th>\n",
       "      <th>start</th>\n",
       "      <th>end</th>\n",
       "      <th>copy number status</th>\n",
       "      <th>segment id</th>\n",
       "      <th>copy number</th>\n",
       "    </tr>\n",
       "  </thead>\n",
       "  <tbody>\n",
       "    <tr>\n",
       "      <th>0</th>\n",
       "      <td>ACH-000988</td>\n",
       "      <td>MFE319</td>\n",
       "      <td>0</td>\n",
       "      <td>8950368</td>\n",
       "      <td>0</td>\n",
       "      <td>0</td>\n",
       "      <td>0.0</td>\n",
       "    </tr>\n",
       "    <tr>\n",
       "      <th>1</th>\n",
       "      <td>ACH-000192</td>\n",
       "      <td>MFE280</td>\n",
       "      <td>40316224</td>\n",
       "      <td>48785023</td>\n",
       "      <td>0</td>\n",
       "      <td>1</td>\n",
       "      <td>0.0</td>\n",
       "    </tr>\n",
       "    <tr>\n",
       "      <th>2</th>\n",
       "      <td>ACH-000988</td>\n",
       "      <td>MFE319</td>\n",
       "      <td>20196537</td>\n",
       "      <td>49091023</td>\n",
       "      <td>0</td>\n",
       "      <td>2</td>\n",
       "      <td>0.0</td>\n",
       "    </tr>\n",
       "    <tr>\n",
       "      <th>3</th>\n",
       "      <td>ACH-000988</td>\n",
       "      <td>MFE319</td>\n",
       "      <td>9484369</td>\n",
       "      <td>18509718</td>\n",
       "      <td>0</td>\n",
       "      <td>3</td>\n",
       "      <td>0.0</td>\n",
       "    </tr>\n",
       "    <tr>\n",
       "      <th>4</th>\n",
       "      <td>ACH-000192</td>\n",
       "      <td>MFE280</td>\n",
       "      <td>9488369</td>\n",
       "      <td>16267879</td>\n",
       "      <td>0</td>\n",
       "      <td>4</td>\n",
       "      <td>0.0</td>\n",
       "    </tr>\n",
       "  </tbody>\n",
       "</table>\n",
       "</div>"
      ],
      "text/plain": [
       "    sample id sample name     start       end copy number status  segment id  \\\n",
       "0  ACH-000988      MFE319         0   8950368                  0           0   \n",
       "1  ACH-000192      MFE280  40316224  48785023                  0           1   \n",
       "2  ACH-000988      MFE319  20196537  49091023                  0           2   \n",
       "3  ACH-000988      MFE319   9484369  18509718                  0           3   \n",
       "4  ACH-000192      MFE280   9488369  16267879                  0           4   \n",
       "\n",
       "   copy number  \n",
       "0          0.0  \n",
       "1          0.0  \n",
       "2          0.0  \n",
       "3          0.0  \n",
       "4          0.0  "
      ]
     },
     "execution_count": 7,
     "metadata": {},
     "output_type": "execute_result"
    }
   ],
   "source": [
    "# table containing the coordinates \n",
    "data=pd.DataFrame({'sample id': ['ACH-000988', 'ACH-000192', 'ACH-000988', 'ACH-000988', 'ACH-000192', 'ACH-000192', 'ACH-000192', 'ACH-000192', 'ACH-000192', 'ACH-000192', 'ACH-000988', 'ACH-000988', 'ACH-000192', 'ACH-000192', 'ACH-000192', 'ACH-000192', 'ACH-000192', 'ACH-000988', 'ACH-000988', 'ACH-000192', 'ACH-000192', 'ACH-000192'], 'sample name': ['MFE319', 'MFE280', 'MFE319', 'MFE319', 'MFE280', 'MFE280', 'MFE280', 'MFE280', 'MFE280', 'MFE280', 'MFE319', 'MFE319', 'MFE280', 'MFE280', 'MFE280', 'MFE280', 'MFE280', 'MFE319', 'MFE319', 'MFE280', 'MFE280', 'MFE280'], 'start': [0, 40316224, 20196537, 9484369, 9488369, 34734023, 2004935, 6651622, 37409175, 0, 18509719, 19486198, 25287591, 21093070, 17701719, 32259509, 16267880, 8950369, 18679719, 8974369, 6649622, 1460895], 'end': [8950368, 48785023, 49091023, 18509718, 16267879, 37409174, 6649621, 8974368, 40316223, 1460894, 18679718, 20196536, 32259508, 25287590, 21093069, 34734022, 17701718, 9484368, 19486197, 9488368, 6651621, 2004934], 'copy number status': ['0', '0', '0', '0', '0', '0', '0', '0', '-', '-', '-', '-', '+', '+', '+', '+', '+', '+', '+', '+', '+', '+'], 'segment id': [0, 1, 2, 3, 4, 5, 6, 7, 8, 9, 10, 11, 12, 13, 14, 15, 16, 17, 18, 19, 20, 21]})\n",
    "## values\n",
    "import numpy as np\n",
    "np.random.seed(0)\n",
    "data=data.assign(\n",
    "    **{\"copy number\": lambda df: df.apply(lambda x: 0 if x['copy number status']=='0' else -1*np.random.ranf() if x['copy number status']=='-' else np.random.ranf(),axis=1)}\n",
    "    )\n",
    "data.head()"
   ]
  },
  {
   "cell_type": "code",
   "execution_count": 8,
   "id": "3727676f-9b1a-4697-90a5-5e9732c93e06",
   "metadata": {
    "tags": []
   },
   "outputs": [
    {
     "data": {
      "text/html": [
       "<div>\n",
       "<style scoped>\n",
       "    .dataframe tbody tr th:only-of-type {\n",
       "        vertical-align: middle;\n",
       "    }\n",
       "\n",
       "    .dataframe tbody tr th {\n",
       "        vertical-align: top;\n",
       "    }\n",
       "\n",
       "    .dataframe thead th {\n",
       "        text-align: right;\n",
       "    }\n",
       "</style>\n",
       "<table border=\"1\" class=\"dataframe\">\n",
       "  <thead>\n",
       "    <tr style=\"text-align: right;\">\n",
       "      <th></th>\n",
       "      <th>chromosome</th>\n",
       "      <th>p start</th>\n",
       "      <th>q end</th>\n",
       "      <th>start</th>\n",
       "      <th>end</th>\n",
       "      <th>cytoband</th>\n",
       "      <th>cytoband type</th>\n",
       "      <th>arm</th>\n",
       "      <th>chromosome arm</th>\n",
       "    </tr>\n",
       "  </thead>\n",
       "  <tbody>\n",
       "    <tr>\n",
       "      <th>544</th>\n",
       "      <td>4</td>\n",
       "      <td>48200001</td>\n",
       "      <td>51800000</td>\n",
       "      <td>1</td>\n",
       "      <td>4500000</td>\n",
       "      <td>p16.3</td>\n",
       "      <td>gneg</td>\n",
       "      <td>p</td>\n",
       "      <td>chr4p</td>\n",
       "    </tr>\n",
       "  </tbody>\n",
       "</table>\n",
       "</div>"
      ],
      "text/plain": [
       "    chromosome   p start     q end  start      end cytoband cytoband type arm  \\\n",
       "544          4  48200001  51800000      1  4500000    p16.3          gneg   p   \n",
       "\n",
       "    chromosome arm  \n",
       "544          chr4p  "
      ]
     },
     "execution_count": 8,
     "metadata": {},
     "output_type": "execute_result"
    }
   ],
   "source": [
    "# cytobands to plot the chromosome\n",
    "cytobands=pd.read_table(\n",
    "    f'{input_dir_path}/cytobands.tsv',\n",
    "    index_col=[0],\n",
    ").query(expr=f\"`chromosome` == '{chromosome}' & `arm` == '{arm}'\")\n",
    "cytobands.head(1)"
   ]
  },
  {
   "cell_type": "markdown",
   "id": "57f685bf-84fa-47df-947c-e5e1383e692b",
   "metadata": {
    "tags": []
   },
   "source": [
    "### `joined` layout"
   ]
  },
  {
   "cell_type": "code",
   "execution_count": 9,
   "id": "0e60665a-aaf1-4e99-8306-db5cc719e285",
   "metadata": {},
   "outputs": [
    {
     "name": "stderr",
     "output_type": "stream",
     "text": [
      "INFO:root:shape = (1, 9) \n"
     ]
    },
    {
     "data": {
      "image/png": "[encoded data removed]",
      "text/plain": [
       "<Figure size 300x150 with 1 Axes>"
      ]
     },
     "metadata": {},
     "output_type": "display_data"
    }
   ],
   "source": [
    "fig,ax=plt.subplots(\n",
    "    figsize=[3,1.5],\n",
    ")\n",
    "_=plot_ranges(\n",
    "    data=data.sort_values('sample name'),\n",
    "    col_id='sample id',\n",
    "    col_label='sample name',\n",
    "    hue='copy number status',\n",
    "    col_start='start',\n",
    "    col_end='end',\n",
    "    # col_sortby='sample name',\n",
    "    kind='joined',\n",
    "    start=0,end=48200001,\n",
    "    cytobands=cytobands,\n",
    "    colors={'-':'r','0':'gray','+':'b'},\n",
    "    show_segments=False,\n",
    "    ax=ax,\n",
    "    test=False,\n",
    "    )\n",
    "plt.savefig(f\"{output_dir_path}/ranges_joined.png\",bbox_inches='tight')"
   ]
  },
  {
   "cell_type": "markdown",
   "id": "0698367b-3a04-4973-8d85-7401c8d2f1ff",
   "metadata": {},
   "source": [
    "#### Show numerical values "
   ]
  },
  {
   "cell_type": "code",
   "execution_count": 10,
   "id": "45c35001-eda8-4ef5-9959-c0be9576cb29",
   "metadata": {
    "tags": []
   },
   "outputs": [
    {
     "name": "stderr",
     "output_type": "stream",
     "text": [
      "INFO:root:shape = (1, 9) \n"
     ]
    },
    {
     "data": {
      "image/png": "[encoded data removed]",
      "text/plain": [
       "<Figure size 300x150 with 1 Axes>"
      ]
     },
     "metadata": {},
     "output_type": "display_data"
    }
   ],
   "source": [
    "fig,ax=plt.subplots(\n",
    "    figsize=[3,1.5],\n",
    ")\n",
    "_=plot_ranges(\n",
    "    data=data.sort_values('sample name'),\n",
    "    col_id='sample id',\n",
    "    col_label='sample name',\n",
    "    hue='copy number',\n",
    "    col_start='start',\n",
    "    col_end='end',\n",
    "    # col_sortby='sample name',\n",
    "    kind='joined',\n",
    "    start=0,end=48200001,\n",
    "    cytobands=cytobands,    \n",
    "    palette='RdBu', ## colormap\n",
    "    hue_lim=[-1,1], ## limits on values shown\n",
    "    show_segments=False,\n",
    "    ax=ax,\n",
    "    test=False,\n",
    "    )\n",
    "plt.savefig(f\"{output_dir_path}/ranges_joined_numerical.png\",bbox_inches='tight')"
   ]
  },
  {
   "cell_type": "markdown",
   "id": "d51f83bd-9ff9-4691-9026-f3d70e847346",
   "metadata": {
    "tags": []
   },
   "source": [
    "### `split` layout"
   ]
  },
  {
   "cell_type": "code",
   "execution_count": 11,
   "id": "426fc9e3-8185-4dde-9588-499fa6d42225",
   "metadata": {
    "tags": []
   },
   "outputs": [
    {
     "name": "stderr",
     "output_type": "stream",
     "text": [
      "INFO:root:shape = (1, 9) \n"
     ]
    },
    {
     "data": {
      "image/png": "[encoded data removed]",
      "text/plain": [
       "<Figure size 300x550 with 1 Axes>"
      ]
     },
     "metadata": {},
     "output_type": "display_data"
    }
   ],
   "source": [
    "fig,ax=plt.subplots(\n",
    "    figsize=[3,len(data)*0.25],\n",
    ")\n",
    "_=plot_ranges(\n",
    "    data=data.sort_values(['sample id','start'],ascending=[True,False]),\n",
    "    col_id='segment id',\n",
    "    hue='copy number status',\n",
    "    col_start='start',\n",
    "    col_end='end',\n",
    "    # col_sortby=['sample id','start'],\n",
    "    col_groupby='sample name',\n",
    "    start=0,end=48200001,\n",
    "    cytobands=cytobands,\n",
    "    colors={'-':'r','0':'gray','+':'b'},\n",
    "    show_segments=False,\n",
    "    ax=ax,\n",
    "    )\n",
    "plt.savefig(f\"{output_dir_path}/ranges_split.png\",bbox_inches='tight')"
   ]
  },
  {
   "cell_type": "markdown",
   "id": "29cea8c0-d39c-4012-a6d3-8365766b1e27",
   "metadata": {},
   "source": [
    "#### Show numerical values "
   ]
  },
  {
   "cell_type": "code",
   "execution_count": 12,
   "id": "346b8f0c-f468-4773-82a8-0d9d1ed3bb28",
   "metadata": {
    "tags": []
   },
   "outputs": [
    {
     "name": "stderr",
     "output_type": "stream",
     "text": [
      "INFO:root:shape = (1, 9) \n"
     ]
    },
    {
     "data": {
      "image/png": "[encoded data removed]",
      "text/plain": [
       "<Figure size 300x550 with 1 Axes>"
      ]
     },
     "metadata": {},
     "output_type": "display_data"
    }
   ],
   "source": [
    "fig,ax=plt.subplots(\n",
    "    figsize=[3,len(data)*0.25],\n",
    ")\n",
    "_=plot_ranges(\n",
    "    data=data.sort_values(['sample id','start'],ascending=[True,False]),\n",
    "    col_id='segment id',\n",
    "    hue='copy number',\n",
    "    col_start='start',\n",
    "    col_end='end',\n",
    "    # col_sortby=['sample id','start'],\n",
    "    col_groupby='sample name',\n",
    "    start=0,end=48200001,\n",
    "    cytobands=cytobands,   \n",
    "    palette='RdBu', ## colormap\n",
    "    hue_lim=[-1,1], ## limits on values shown\n",
    "    show_segments=False,\n",
    "    col_label='copy number status',\n",
    "    ax=ax,\n",
    "    test=False,\n",
    "    )\n",
    "plt.savefig(f\"{output_dir_path}/ranges_split_numerical.png\",bbox_inches='tight')"
   ]
  },
  {
   "cell_type": "markdown",
   "id": "0d4a695d-349e-4a42-b34f-70d1064b6d3d",
   "metadata": {},
   "source": [
    "## Outputs"
   ]
  },
  {
   "cell_type": "code",
   "execution_count": 13,
   "id": "247e084f-abdf-415a-8b3c-f88b8d3d081d",
   "metadata": {
    "tags": []
   },
   "outputs": [
    {
     "name": "stderr",
     "output_type": "stream",
     "text": [
      "/home/rdandage/Documents/work/chrov/.venv/lib/python3.10/site-packages/nbdev/doclinks.py:19: UserWarning: pkg_resources is deprecated as an API. See https://setuptools.pypa.io/en/latest/pkg_resources.html. The pkg_resources package is slated for removal as early as 2025-11-30. Refrain from using this package or pin to Setuptools<81.\n",
      "  import pkg_resources,importlib\n"
     ]
    }
   ],
   "source": [
    "import nbdev\n",
    "nbdev.export.nb_export(\n",
    "    **kws_nb_export\n",
    ")"
   ]
  }
 ],
 "metadata": {
  "kernelspec": {
   "display_name": "chrov",
   "language": "python",
   "name": "chrov"
  },
  "language_info": {
   "codemirror_mode": {
    "name": "ipython",
    "version": 3
   },
   "file_extension": ".py",
   "mimetype": "text/x-python",
   "name": "python",
   "nbconvert_exporter": "python",
   "pygments_lexer": "ipython3",
   "version": "3.10.17"
  }
 },
 "nbformat": 4,
 "nbformat_minor": 5
}
